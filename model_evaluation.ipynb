{
 "cells": [
  {
   "cell_type": "markdown",
   "metadata": {
    "colab_type": "text",
    "id": "2O8aFWU0OjQA"
   },
   "source": [
    "# Google Drive Setup"
   ]
  },
  {
   "cell_type": "code",
   "execution_count": 1,
   "metadata": {
    "colab": {
     "base_uri": "https://localhost:8080/",
     "height": 71
    },
    "colab_type": "code",
    "executionInfo": {
     "elapsed": 1295,
     "status": "ok",
     "timestamp": 1589297799859,
     "user": {
      "displayName": "Sudharsan Asaithambi",
      "photoUrl": "https://lh3.googleusercontent.com/a-/AOh14Giv8Jx-g4DIa_lfyFm-yRxJqdgHeF2vDdrwDmVK=s64",
      "userId": "10856416445811504444"
     },
     "user_tz": -330
    },
    "id": "YoPuM-mWDw2Q",
    "outputId": "b3743535-6a1a-47a9-85e5-94059fabc90f"
   },
   "outputs": [],
   "source": [
    "# from google.colab import drive\n",
    "\n",
    "# ROOT = \"/content/drive\"     # default location for the drive\n",
    "# print(ROOT)                 # print content of ROOT (Optional)\n",
    "\n",
    "# drive.mount(ROOT)    \n",
    "#cd /content/drive/My\\ Drive/Masters/Deep\\ Learning/model_evaluator/model_evaluator"
   ]
  },
  {
   "cell_type": "markdown",
   "metadata": {
    "colab_type": "text",
    "id": "HK5jlTgCQmVq"
   },
   "source": [
    "# Navigate to Working Directory"
   ]
  },
  {
   "cell_type": "markdown",
   "metadata": {
    "colab_type": "text",
    "id": "Sk_VE9J7IGKa"
   },
   "source": [
    "# Model Evaluator Class\n",
    "\n",
    "TODO:\n",
    "\n",
    "1. Add model_training_class which stores the model_state_dict - Done\n",
    "2. Add methods to store and retrive the information - Done\n",
    "3. Add methods to print the information\n",
    "4. Add methods to visualize between the models\n",
    "5. Statements to deal with empty dictionary if it exists - list models, retreive loss over\n",
    "6. Solidify and Covey the rigidity of the structure of dictionary i.e validate if the train_dict will fit the structure of the class"
   ]
  },
  {
   "cell_type": "code",
   "execution_count": 35,
   "metadata": {
    "colab": {},
    "colab_type": "code",
    "id": "j91P7h2xVteH"
   },
   "outputs": [],
   "source": [
    "import model_evaluator as me"
   ]
  },
  {
   "cell_type": "markdown",
   "metadata": {
    "colab_type": "text",
    "id": "B3qYlUl5Rii0"
   },
   "source": [
    "# Dataset Download"
   ]
  },
  {
   "cell_type": "code",
   "execution_count": 36,
   "metadata": {
    "colab": {},
    "colab_type": "code",
    "id": "sYsmtAHEt_12"
   },
   "outputs": [],
   "source": [
    "#building a network\n",
    "from torch import nn,optim\n",
    "import torch.nn.functional as F\n",
    "import datetime\n",
    "import os\n",
    "import cv2"
   ]
  },
  {
   "cell_type": "code",
   "execution_count": 37,
   "metadata": {
    "colab": {
     "base_uri": "https://localhost:8080/",
     "height": 352,
     "referenced_widgets": [
      "f2a6b40040f94580b04b3658c6b706de",
      "05a4db1603d74004aa95bd26563614cd",
      "4abdec0fbe7245a696cd093607249699",
      "cd53019ab4874288a1c0a80868ef101e",
      "26e828552db64dcd8337033899142640",
      "6fba319f26854450b98df0b7b3d33272",
      "6fd36b25402442e9924c31586a9da02b",
      "d8721b00732944308b3b012615411023",
      "c05dc49b874448ed81332cb4e35497e8",
      "7caf822fe30f4a44aa037eb50c19aba1",
      "6837e1b895af408c9c03c32baafa59ad",
      "c5c79ce89bfb4bfdb6ebcea295cfbfd2",
      "b3114b88ceee4540a9ce32a0457b443c",
      "78532d04e8c94f55a6159beb27453ba7",
      "c556597957f8458fbbaa38777ef04066",
      "125df0e0d1a74b638e9697813551c6ea",
      "052763a9b21e4a56b3689001528c5f68",
      "ccb6956c46204ea38c1961c605d07d86",
      "0a8afe9aa28b4803954d689f33eaad64",
      "f4b3654c46754ec6b41f760f19edf604",
      "7c4594cbcb7f443e9c500926763bc2fd",
      "8706a1a872254096a70001b383ad2ff3",
      "9fba0cc4ba0a49969a3da0f83357aa6a",
      "bb7b1045e9c646e585e964da3d047fab",
      "bb11d553d8b54b2aa4db1d89040d8dfb",
      "ea0bbca1f5dc4976a38cad49f1b8c3aa",
      "16e3d43eda0f4b0cb5cb47166b25b38d",
      "89b5a02207c14a639ab38dd4c0a4dcc3",
      "4c2220d1e26747b88f4b5d874895dbbe",
      "5dea0abae97c4fac9722adc546fb11c1",
      "338062a3adee492eac5f5ea50ce043e0",
      "890537c72f9c41b3917c9ea6697fc1f5"
     ]
    },
    "colab_type": "code",
    "executionInfo": {
     "elapsed": 6005,
     "status": "ok",
     "timestamp": 1589294643942,
     "user": {
      "displayName": "Sudharsan Asaithambi",
      "photoUrl": "https://lh3.googleusercontent.com/a-/AOh14Giv8Jx-g4DIa_lfyFm-yRxJqdgHeF2vDdrwDmVK=s64",
      "userId": "10856416445811504444"
     },
     "user_tz": -330
    },
    "id": "uBjLKO-yt_1n",
    "outputId": "b5e14ef2-294b-482e-f42b-ae9907910434"
   },
   "outputs": [],
   "source": [
    "import torch\n",
    "from torchvision import datasets, transforms\n",
    "\n",
    "# Define a transform to normalize the data\n",
    "transform = transforms.Compose([transforms.ToTensor(),\n",
    "transforms.Normalize((0.5,), (0.5,))])\n",
    "# Download and load the training data\n",
    "trainset = datasets.FashionMNIST('~/.pytorch/F_MNIST_data/', download=True, train=True, transform=transform)\n",
    "trainloader = torch.utils.data.DataLoader(trainset, batch_size=64, shuffle=True)\n",
    "\n",
    "# Download and load the test data\n",
    "testset = datasets.FashionMNIST('~/.pytorch/F_MNIST_data/', download=True, train=False, transform=transform)\n",
    "testloader = torch.utils.data.DataLoader(testset, batch_size=64, shuffle=True)"
   ]
  },
  {
   "cell_type": "code",
   "execution_count": 38,
   "metadata": {
    "colab": {
     "base_uri": "https://localhost:8080/",
     "height": 350
    },
    "colab_type": "code",
    "executionInfo": {
     "elapsed": 4315,
     "status": "ok",
     "timestamp": 1589294643943,
     "user": {
      "displayName": "Sudharsan Asaithambi",
      "photoUrl": "https://lh3.googleusercontent.com/a-/AOh14Giv8Jx-g4DIa_lfyFm-yRxJqdgHeF2vDdrwDmVK=s64",
      "userId": "10856416445811504444"
     },
     "user_tz": -330
    },
    "id": "7WCzlowQt_1u",
    "outputId": "2eea70bb-e2a6-41eb-d087-18252df0a1e3"
   },
   "outputs": [
    {
     "data": {
      "text/plain": [
       "<matplotlib.image.AxesImage at 0x13dde4510>"
      ]
     },
     "execution_count": 38,
     "metadata": {},
     "output_type": "execute_result"
    },
    {
     "data": {
      "image/png": "[encoded data removed]",
      "text/plain": [
       "<Figure size 432x288 with 1 Axes>"
      ]
     },
     "metadata": {
      "needs_background": "light"
     },
     "output_type": "display_data"
    }
   ],
   "source": [
    "import matplotlib.pyplot as plt\n",
    "images,label = next(iter(trainloader))\n",
    "plt.imshow(images[0].numpy().squeeze())"
   ]
  },
  {
   "cell_type": "markdown",
   "metadata": {
    "colab_type": "text",
    "id": "nK3F_vwgSI9v"
   },
   "source": [
    "# Training Process and Dictionary Filling"
   ]
  },
  {
   "cell_type": "code",
   "execution_count": 39,
   "metadata": {
    "colab": {},
    "colab_type": "code",
    "id": "NvkKIvSpWPLL"
   },
   "outputs": [],
   "source": [
    "def train_model(epochs,train_loader,model,criterion,optimizer,device = 'cpu',print_time_stats=True,model_evaluator = None):\n",
    "    model_dict = model_evaluator.init_model()\n",
    "    \n",
    "    model_dict['model_architecture']['model'] = str(model)\n",
    "    model_dict['model_architecture']['criterion'] = str(criterion)\n",
    "    model_dict['model_architecture']['optimizer'] = str(optimizer)\n",
    "    \n",
    "    model_dict['data']['train_set'] = str(trainset)\n",
    "    \n",
    "    model_dict['training_parameters']['no_of_steps_per_epoch'] = len(train_loader)\n",
    "    model_dict['training_parameters']['device'] = device\n",
    "    model_dict['training_parameters']['epochs'] = epochs\n",
    "    model_dict['training_parameters']['time'] = str(datetime.datetime.now())\n",
    "    \n",
    "    \n",
    "    \n",
    "    \n",
    "    train_start_time = datetime.datetime.now()\n",
    "    model.train()\n",
    "    for e in range(epochs):\n",
    "        epoch_start_time = datetime.datetime.now()\n",
    "        running_loss = 0\n",
    "        for images,labels in train_loader:\n",
    "            if device != 'cpu':\n",
    "                images, labels = images.cuda(),labels.cuda()\n",
    "            images = images.view(-1,28*28)\n",
    "            optimizer.zero_grad()\n",
    "            output = model(images)\n",
    "            loss = criterion(output,labels)\n",
    "            loss.backward()\n",
    "            optimizer.step()\n",
    "            running_loss += loss\n",
    "        print(f\"Average Loss per Batch : {running_loss/len(train_loader)}\")\n",
    "        model_dict['training_stats']['epoch_average_batch_loss'].append(running_loss.item()/len(train_loader))\n",
    "        epoch_end_time = datetime.datetime.now()\n",
    "        model_dict['training_stats']['epoch_time'].append(str(epoch_end_time - epoch_start_time))\n",
    "        if print_time_stats:\n",
    "            print(f\"Epoch Time : {epoch_end_time - epoch_start_time}\")\n",
    "    train_end_time = datetime.datetime.now()\n",
    "    model_dict['training_stats']['total_train_time'] = str(train_end_time - train_start_time)\n",
    "    if print_time_stats:\n",
    "        print(f\"Training Time : {str(train_end_time - train_start_time)}\")\n",
    "    return model_dict"
   ]
  },
  {
   "cell_type": "code",
   "execution_count": 40,
   "metadata": {
    "colab": {
     "base_uri": "https://localhost:8080/",
     "height": 204
    },
    "colab_type": "code",
    "executionInfo": {
     "elapsed": 61378,
     "status": "ok",
     "timestamp": 1589294708474,
     "user": {
      "displayName": "Sudharsan Asaithambi",
      "photoUrl": "https://lh3.googleusercontent.com/a-/AOh14Giv8Jx-g4DIa_lfyFm-yRxJqdgHeF2vDdrwDmVK=s64",
      "userId": "10856416445811504444"
     },
     "user_tz": -330
    },
    "id": "pfaL4zJyt_18",
    "outputId": "d99e0d81-1df4-40ff-a580-bd77de7478f8"
   },
   "outputs": [],
   "source": [
    "model = nn.Sequential(\n",
    "                    nn.Linear(784,128),\n",
    "                    nn.ReLU(),\n",
    "                    nn.Linear(128,32),\n",
    "                    nn.ReLU(),\n",
    "                    nn.Linear(32,10),\n",
    "                    nn.LogSoftmax(dim=1)\n",
    ")\n",
    "#defining the loss\n",
    "criterion = nn.NLLLoss()\n",
    "optimizer = optim.Adam(model.parameters(),lr=0.01)\n",
    "fashion_mnist = me.ModelEvaluator('fashion_mnist',file_path='fashion_mnist_test.pkl')"
   ]
  },
  {
   "cell_type": "code",
   "execution_count": 34,
   "metadata": {},
   "outputs": [
    {
     "name": "stdout",
     "output_type": "stream",
     "text": [
      "Average Loss per Batch : 0.5436866283416748\n",
      "Epoch Time : 0:00:12.745347\n",
      "Average Loss per Batch : 0.44070225954055786\n",
      "Epoch Time : 0:00:12.165357\n",
      "Average Loss per Batch : 0.4125708341598511\n",
      "Epoch Time : 0:00:11.679751\n",
      "Average Loss per Batch : 0.3965475261211395\n",
      "Epoch Time : 0:00:12.845870\n",
      "Average Loss per Batch : 0.39750272035598755\n",
      "Epoch Time : 0:00:12.645934\n",
      "Training Time : 0:01:02.082491\n"
     ]
    }
   ],
   "source": [
    "model_train_dict = train_model(5,trainloader,model,criterion,optimizer,model_evaluator=fashion_mnist)"
   ]
  },
  {
   "cell_type": "code",
   "execution_count": 42,
   "metadata": {
    "colab": {},
    "colab_type": "code",
    "id": "rYxVXbcBPxoc"
   },
   "outputs": [],
   "source": [
    "fashion_mnist.reset_experiment()"
   ]
  },
  {
   "cell_type": "code",
   "execution_count": 43,
   "metadata": {
    "colab": {
     "base_uri": "https://localhost:8080/",
     "height": 34
    },
    "colab_type": "code",
    "executionInfo": {
     "elapsed": 1595,
     "status": "ok",
     "timestamp": 1589294777210,
     "user": {
      "displayName": "Sudharsan Asaithambi",
      "photoUrl": "https://lh3.googleusercontent.com/a-/AOh14Giv8Jx-g4DIa_lfyFm-yRxJqdgHeF2vDdrwDmVK=s64",
      "userId": "10856416445811504444"
     },
     "user_tz": -330
    },
    "id": "FRiBGtg_4U-Z",
    "outputId": "e38cc018-12e5-4822-a1ce-166998f76f27"
   },
   "outputs": [
    {
     "data": {
      "text/plain": [
       "True"
      ]
     },
     "execution_count": 43,
     "metadata": {},
     "output_type": "execute_result"
    }
   ],
   "source": [
    "fashion_mnist.is_empty()"
   ]
  },
  {
   "cell_type": "code",
   "execution_count": 44,
   "metadata": {
    "colab": {},
    "colab_type": "code",
    "id": "V1Je9wVvX_kF"
   },
   "outputs": [],
   "source": [
    "fashion_mnist.add_model('fashion_mnist_1',model_train_dict)"
   ]
  },
  {
   "cell_type": "code",
   "execution_count": 45,
   "metadata": {
    "colab": {
     "base_uri": "https://localhost:8080/",
     "height": 34
    },
    "colab_type": "code",
    "executionInfo": {
     "elapsed": 1418,
     "status": "ok",
     "timestamp": 1589294782107,
     "user": {
      "displayName": "Sudharsan Asaithambi",
      "photoUrl": "https://lh3.googleusercontent.com/a-/AOh14Giv8Jx-g4DIa_lfyFm-yRxJqdgHeF2vDdrwDmVK=s64",
      "userId": "10856416445811504444"
     },
     "user_tz": -330
    },
    "id": "9BSVBY1cFa2-",
    "outputId": "caf1c687-b92b-4e21-e7b0-929484cbcdbc"
   },
   "outputs": [
    {
     "name": "stdout",
     "output_type": "stream",
     "text": [
      "fashion_mnist_1\n"
     ]
    }
   ],
   "source": [
    "fashion_mnist.list_models()"
   ]
  },
  {
   "cell_type": "code",
   "execution_count": 46,
   "metadata": {},
   "outputs": [
    {
     "data": {
      "text/plain": [
       "{'fashion_mnist_1': {'model_architecture': {'model': 'Sequential(\\n  (0): Linear(in_features=784, out_features=128, bias=True)\\n  (1): ReLU()\\n  (2): Linear(in_features=128, out_features=32, bias=True)\\n  (3): ReLU()\\n  (4): Linear(in_features=32, out_features=10, bias=True)\\n  (5): LogSoftmax()\\n)',\n",
       "   'optimizer': 'Adam (\\nParameter Group 0\\n    amsgrad: False\\n    betas: (0.9, 0.999)\\n    eps: 1e-08\\n    lr: 0.01\\n    weight_decay: 0\\n)',\n",
       "   'criterion': 'NLLLoss()'},\n",
       "  'data': {'train_set': 'Dataset FashionMNIST\\n    Number of datapoints: 60000\\n    Root location: /Users/kitezstore/.pytorch/F_MNIST_data/\\n    Split: Train\\n    StandardTransform\\nTransform: Compose(\\n               ToTensor()\\n               Normalize(mean=(0.5,), std=(0.5,))\\n           )'},\n",
       "  'training_parameters': {'no_of_steps_per_epoch': 938,\n",
       "   'device': 'cpu',\n",
       "   'epochs': 5,\n",
       "   'time': '2020-05-15 22:56:08.007829'},\n",
       "  'training_stats': {'total_train_time': '0:01:02.082491',\n",
       "   'epoch_time': ['0:00:12.745347',\n",
       "    '0:00:12.165357',\n",
       "    '0:00:11.679751',\n",
       "    '0:00:12.845870',\n",
       "    '0:00:12.645934'],\n",
       "   'epoch_average_batch_loss': [0.5436866288500299,\n",
       "    0.4407022634803105,\n",
       "    0.41257084763126334,\n",
       "    0.39654752491379597,\n",
       "    0.39750271209521587]}}}"
      ]
     },
     "execution_count": 46,
     "metadata": {},
     "output_type": "execute_result"
    }
   ],
   "source": [
    "fashion_mnist.models"
   ]
  },
  {
   "cell_type": "code",
   "execution_count": null,
   "metadata": {},
   "outputs": [],
   "source": []
  }
 ],
 "metadata": {
  "colab": {
   "collapsed_sections": [],
   "name": "model_evaluation.ipynb",
   "provenance": [
    {
     "file_id": "13vEIc4sKabwifZX024GauuVId0okHCPP",
     "timestamp": 1588818934267
    },
    {
     "file_id": "1AMViMKgqI2AFXQ8owHma9XrNOLh7m0mg",
     "timestamp": 1588640113543
    }
   ],
   "toc_visible": true
  },
  "kernelspec": {
   "display_name": "Python 3",
   "language": "python",
   "name": "python3"
  },
  "language_info": {
   "codemirror_mode": {
    "name": "ipython",
    "version": 3
   },
   "file_extension": ".py",
   "mimetype": "text/x-python",
   "name": "python",
   "nbconvert_exporter": "python",
   "pygments_lexer": "ipython3",
   "version": "3.7.4"
  },
  "widgets": {
   "application/vnd.jupyter.widget-state+json": {
    "052763a9b21e4a56b3689001528c5f68": {
     "model_module": "@jupyter-widgets/controls",
     "model_name": "HBoxModel",
     "state": {
      "_dom_classes": [],
      "_model_module": "@jupyter-widgets/controls",
      "_model_module_version": "1.5.0",
      "_model_name": "HBoxModel",
      "_view_count": null,
      "_view_module": "@jupyter-widgets/controls",
      "_view_module_version": "1.5.0",
      "_view_name": "HBoxView",
      "box_style": "",
      "children": [
       "IPY_MODEL_0a8afe9aa28b4803954d689f33eaad64",
       "IPY_MODEL_f4b3654c46754ec6b41f760f19edf604"
      ],
      "layout": "IPY_MODEL_ccb6956c46204ea38c1961c605d07d86"
     }
    },
    "05a4db1603d74004aa95bd26563614cd": {
     "model_module": "@jupyter-widgets/base",
     "model_name": "LayoutModel",
     "state": {
      "_model_module": "@jupyter-widgets/base",
      "_model_module_version": "1.2.0",
      "_model_name": "LayoutModel",
      "_view_count": null,
      "_view_module": "@jupyter-widgets/base",
      "_view_module_version": "1.2.0",
      "_view_name": "LayoutView",
      "align_content": null,
      "align_items": null,
      "align_self": null,
      "border": null,
      "bottom": null,
      "display": null,
      "flex": null,
      "flex_flow": null,
      "grid_area": null,
      "grid_auto_columns": null,
      "grid_auto_flow": null,
      "grid_auto_rows": null,
      "grid_column": null,
      "grid_gap": null,
      "grid_row": null,
      "grid_template_areas": null,
      "grid_template_columns": null,
      "grid_template_rows": null,
      "height": null,
      "justify_content": null,
      "justify_items": null,
      "left": null,
      "margin": null,
      "max_height": null,
      "max_width": null,
      "min_height": null,
      "min_width": null,
      "object_fit": null,
      "object_position": null,
      "order": null,
      "overflow": null,
      "overflow_x": null,
      "overflow_y": null,
      "padding": null,
      "right": null,
      "top": null,
      "visibility": null,
      "width": null
     }
    },
    "0a8afe9aa28b4803954d689f33eaad64": {
     "model_module": "@jupyter-widgets/controls",
     "model_name": "FloatProgressModel",
     "state": {
      "_dom_classes": [],
      "_model_module": "@jupyter-widgets/controls",
      "_model_module_version": "1.5.0",
      "_model_name": "FloatProgressModel",
      "_view_count": null,
      "_view_module": "@jupyter-widgets/controls",
      "_view_module_version": "1.5.0",
      "_view_name": "ProgressView",
      "bar_style": "success",
      "description": "",
      "description_tooltip": null,
      "layout": "IPY_MODEL_8706a1a872254096a70001b383ad2ff3",
      "max": 1,
      "min": 0,
      "orientation": "horizontal",
      "style": "IPY_MODEL_7c4594cbcb7f443e9c500926763bc2fd",
      "value": 1
     }
    },
    "125df0e0d1a74b638e9697813551c6ea": {
     "model_module": "@jupyter-widgets/base",
     "model_name": "LayoutModel",
     "state": {
      "_model_module": "@jupyter-widgets/base",
      "_model_module_version": "1.2.0",
      "_model_name": "LayoutModel",
      "_view_count": null,
      "_view_module": "@jupyter-widgets/base",
      "_view_module_version": "1.2.0",
      "_view_name": "LayoutView",
      "align_content": null,
      "align_items": null,
      "align_self": null,
      "border": null,
      "bottom": null,
      "display": null,
      "flex": null,
      "flex_flow": null,
      "grid_area": null,
      "grid_auto_columns": null,
      "grid_auto_flow": null,
      "grid_auto_rows": null,
      "grid_column": null,
      "grid_gap": null,
      "grid_row": null,
      "grid_template_areas": null,
      "grid_template_columns": null,
      "grid_template_rows": null,
      "height": null,
      "justify_content": null,
      "justify_items": null,
      "left": null,
      "margin": null,
      "max_height": null,
      "max_width": null,
      "min_height": null,
      "min_width": null,
      "object_fit": null,
      "object_position": null,
      "order": null,
      "overflow": null,
      "overflow_x": null,
      "overflow_y": null,
      "padding": null,
      "right": null,
      "top": null,
      "visibility": null,
      "width": null
     }
    },
    "16e3d43eda0f4b0cb5cb47166b25b38d": {
     "model_module": "@jupyter-widgets/controls",
     "model_name": "FloatProgressModel",
     "state": {
      "_dom_classes": [],
      "_model_module": "@jupyter-widgets/controls",
      "_model_module_version": "1.5.0",
      "_model_name": "FloatProgressModel",
      "_view_count": null,
      "_view_module": "@jupyter-widgets/controls",
      "_view_module_version": "1.5.0",
      "_view_name": "ProgressView",
      "bar_style": "success",
      "description": "",
      "description_tooltip": null,
      "layout": "IPY_MODEL_5dea0abae97c4fac9722adc546fb11c1",
      "max": 1,
      "min": 0,
      "orientation": "horizontal",
      "style": "IPY_MODEL_4c2220d1e26747b88f4b5d874895dbbe",
      "value": 1
     }
    },
    "26e828552db64dcd8337033899142640": {
     "model_module": "@jupyter-widgets/controls",
     "model_name": "ProgressStyleModel",
     "state": {
      "_model_module": "@jupyter-widgets/controls",
      "_model_module_version": "1.5.0",
      "_model_name": "ProgressStyleModel",
      "_view_count": null,
      "_view_module": "@jupyter-widgets/base",
      "_view_module_version": "1.2.0",
      "_view_name": "StyleView",
      "bar_color": null,
      "description_width": "initial"
     }
    },
    "338062a3adee492eac5f5ea50ce043e0": {
     "model_module": "@jupyter-widgets/controls",
     "model_name": "DescriptionStyleModel",
     "state": {
      "_model_module": "@jupyter-widgets/controls",
      "_model_module_version": "1.5.0",
      "_model_name": "DescriptionStyleModel",
      "_view_count": null,
      "_view_module": "@jupyter-widgets/base",
      "_view_module_version": "1.2.0",
      "_view_name": "StyleView",
      "description_width": ""
     }
    },
    "4abdec0fbe7245a696cd093607249699": {
     "model_module": "@jupyter-widgets/controls",
     "model_name": "FloatProgressModel",
     "state": {
      "_dom_classes": [],
      "_model_module": "@jupyter-widgets/controls",
      "_model_module_version": "1.5.0",
      "_model_name": "FloatProgressModel",
      "_view_count": null,
      "_view_module": "@jupyter-widgets/controls",
      "_view_module_version": "1.5.0",
      "_view_name": "ProgressView",
      "bar_style": "success",
      "description": "",
      "description_tooltip": null,
      "layout": "IPY_MODEL_6fba319f26854450b98df0b7b3d33272",
      "max": 1,
      "min": 0,
      "orientation": "horizontal",
      "style": "IPY_MODEL_26e828552db64dcd8337033899142640",
      "value": 1
     }
    },
    "4c2220d1e26747b88f4b5d874895dbbe": {
     "model_module": "@jupyter-widgets/controls",
     "model_name": "ProgressStyleModel",
     "state": {
      "_model_module": "@jupyter-widgets/controls",
      "_model_module_version": "1.5.0",
      "_model_name": "ProgressStyleModel",
      "_view_count": null,
      "_view_module": "@jupyter-widgets/base",
      "_view_module_version": "1.2.0",
      "_view_name": "StyleView",
      "bar_color": null,
      "description_width": "initial"
     }
    },
    "5dea0abae97c4fac9722adc546fb11c1": {
     "model_module": "@jupyter-widgets/base",
     "model_name": "LayoutModel",
     "state": {
      "_model_module": "@jupyter-widgets/base",
      "_model_module_version": "1.2.0",
      "_model_name": "LayoutModel",
      "_view_count": null,
      "_view_module": "@jupyter-widgets/base",
      "_view_module_version": "1.2.0",
      "_view_name": "LayoutView",
      "align_content": null,
      "align_items": null,
      "align_self": null,
      "border": null,
      "bottom": null,
      "display": null,
      "flex": null,
      "flex_flow": null,
      "grid_area": null,
      "grid_auto_columns": null,
      "grid_auto_flow": null,
      "grid_auto_rows": null,
      "grid_column": null,
      "grid_gap": null,
      "grid_row": null,
      "grid_template_areas": null,
      "grid_template_columns": null,
      "grid_template_rows": null,
      "height": null,
      "justify_content": null,
      "justify_items": null,
      "left": null,
      "margin": null,
      "max_height": null,
      "max_width": null,
      "min_height": null,
      "min_width": null,
      "object_fit": null,
      "object_position": null,
      "order": null,
      "overflow": null,
      "overflow_x": null,
      "overflow_y": null,
      "padding": null,
      "right": null,
      "top": null,
      "visibility": null,
      "width": null
     }
    },
    "6837e1b895af408c9c03c32baafa59ad": {
     "model_module": "@jupyter-widgets/controls",
     "model_name": "FloatProgressModel",
     "state": {
      "_dom_classes": [],
      "_model_module": "@jupyter-widgets/controls",
      "_model_module_version": "1.5.0",
      "_model_name": "FloatProgressModel",
      "_view_count": null,
      "_view_module": "@jupyter-widgets/controls",
      "_view_module_version": "1.5.0",
      "_view_name": "ProgressView",
      "bar_style": "success",
      "description": "",
      "description_tooltip": null,
      "layout": "IPY_MODEL_78532d04e8c94f55a6159beb27453ba7",
      "max": 1,
      "min": 0,
      "orientation": "horizontal",
      "style": "IPY_MODEL_b3114b88ceee4540a9ce32a0457b443c",
      "value": 1
     }
    },
    "6fba319f26854450b98df0b7b3d33272": {
     "model_module": "@jupyter-widgets/base",
     "model_name": "LayoutModel",
     "state": {
      "_model_module": "@jupyter-widgets/base",
      "_model_module_version": "1.2.0",
      "_model_name": "LayoutModel",
      "_view_count": null,
      "_view_module": "@jupyter-widgets/base",
      "_view_module_version": "1.2.0",
      "_view_name": "LayoutView",
      "align_content": null,
      "align_items": null,
      "align_self": null,
      "border": null,
      "bottom": null,
      "display": null,
      "flex": null,
      "flex_flow": null,
      "grid_area": null,
      "grid_auto_columns": null,
      "grid_auto_flow": null,
      "grid_auto_rows": null,
      "grid_column": null,
      "grid_gap": null,
      "grid_row": null,
      "grid_template_areas": null,
      "grid_template_columns": null,
      "grid_template_rows": null,
      "height": null,
      "justify_content": null,
      "justify_items": null,
      "left": null,
      "margin": null,
      "max_height": null,
      "max_width": null,
      "min_height": null,
      "min_width": null,
      "object_fit": null,
      "object_position": null,
      "order": null,
      "overflow": null,
      "overflow_x": null,
      "overflow_y": null,
      "padding": null,
      "right": null,
      "top": null,
      "visibility": null,
      "width": null
     }
    },
    "6fd36b25402442e9924c31586a9da02b": {
     "model_module": "@jupyter-widgets/controls",
     "model_name": "DescriptionStyleModel",
     "state": {
      "_model_module": "@jupyter-widgets/controls",
      "_model_module_version": "1.5.0",
      "_model_name": "DescriptionStyleModel",
      "_view_count": null,
      "_view_module": "@jupyter-widgets/base",
      "_view_module_version": "1.2.0",
      "_view_name": "StyleView",
      "description_width": ""
     }
    },
    "78532d04e8c94f55a6159beb27453ba7": {
     "model_module": "@jupyter-widgets/base",
     "model_name": "LayoutModel",
     "state": {
      "_model_module": "@jupyter-widgets/base",
      "_model_module_version": "1.2.0",
      "_model_name": "LayoutModel",
      "_view_count": null,
      "_view_module": "@jupyter-widgets/base",
      "_view_module_version": "1.2.0",
      "_view_name": "LayoutView",
      "align_content": null,
      "align_items": null,
      "align_self": null,
      "border": null,
      "bottom": null,
      "display": null,
      "flex": null,
      "flex_flow": null,
      "grid_area": null,
      "grid_auto_columns": null,
      "grid_auto_flow": null,
      "grid_auto_rows": null,
      "grid_column": null,
      "grid_gap": null,
      "grid_row": null,
      "grid_template_areas": null,
      "grid_template_columns": null,
      "grid_template_rows": null,
      "height": null,
      "justify_content": null,
      "justify_items": null,
      "left": null,
      "margin": null,
      "max_height": null,
      "max_width": null,
      "min_height": null,
      "min_width": null,
      "object_fit": null,
      "object_position": null,
      "order": null,
      "overflow": null,
      "overflow_x": null,
      "overflow_y": null,
      "padding": null,
      "right": null,
      "top": null,
      "visibility": null,
      "width": null
     }
    },
    "7c4594cbcb7f443e9c500926763bc2fd": {
     "model_module": "@jupyter-widgets/controls",
     "model_name": "ProgressStyleModel",
     "state": {
      "_model_module": "@jupyter-widgets/controls",
      "_model_module_version": "1.5.0",
      "_model_name": "ProgressStyleModel",
      "_view_count": null,
      "_view_module": "@jupyter-widgets/base",
      "_view_module_version": "1.2.0",
      "_view_name": "StyleView",
      "bar_color": null,
      "description_width": "initial"
     }
    },
    "7caf822fe30f4a44aa037eb50c19aba1": {
     "model_module": "@jupyter-widgets/base",
     "model_name": "LayoutModel",
     "state": {
      "_model_module": "@jupyter-widgets/base",
      "_model_module_version": "1.2.0",
      "_model_name": "LayoutModel",
      "_view_count": null,
      "_view_module": "@jupyter-widgets/base",
      "_view_module_version": "1.2.0",
      "_view_name": "LayoutView",
      "align_content": null,
      "align_items": null,
      "align_self": null,
      "border": null,
      "bottom": null,
      "display": null,
      "flex": null,
      "flex_flow": null,
      "grid_area": null,
      "grid_auto_columns": null,
      "grid_auto_flow": null,
      "grid_auto_rows": null,
      "grid_column": null,
      "grid_gap": null,
      "grid_row": null,
      "grid_template_areas": null,
      "grid_template_columns": null,
      "grid_template_rows": null,
      "height": null,
      "justify_content": null,
      "justify_items": null,
      "left": null,
      "margin": null,
      "max_height": null,
      "max_width": null,
      "min_height": null,
      "min_width": null,
      "object_fit": null,
      "object_position": null,
      "order": null,
      "overflow": null,
      "overflow_x": null,
      "overflow_y": null,
      "padding": null,
      "right": null,
      "top": null,
      "visibility": null,
      "width": null
     }
    },
    "8706a1a872254096a70001b383ad2ff3": {
     "model_module": "@jupyter-widgets/base",
     "model_name": "LayoutModel",
     "state": {
      "_model_module": "@jupyter-widgets/base",
      "_model_module_version": "1.2.0",
      "_model_name": "LayoutModel",
      "_view_count": null,
      "_view_module": "@jupyter-widgets/base",
      "_view_module_version": "1.2.0",
      "_view_name": "LayoutView",
      "align_content": null,
      "align_items": null,
      "align_self": null,
      "border": null,
      "bottom": null,
      "display": null,
      "flex": null,
      "flex_flow": null,
      "grid_area": null,
      "grid_auto_columns": null,
      "grid_auto_flow": null,
      "grid_auto_rows": null,
      "grid_column": null,
      "grid_gap": null,
      "grid_row": null,
      "grid_template_areas": null,
      "grid_template_columns": null,
      "grid_template_rows": null,
      "height": null,
      "justify_content": null,
      "justify_items": null,
      "left": null,
      "margin": null,
      "max_height": null,
      "max_width": null,
      "min_height": null,
      "min_width": null,
      "object_fit": null,
      "object_position": null,
      "order": null,
      "overflow": null,
      "overflow_x": null,
      "overflow_y": null,
      "padding": null,
      "right": null,
      "top": null,
      "visibility": null,
      "width": null
     }
    },
    "890537c72f9c41b3917c9ea6697fc1f5": {
     "model_module": "@jupyter-widgets/base",
     "model_name": "LayoutModel",
     "state": {
      "_model_module": "@jupyter-widgets/base",
      "_model_module_version": "1.2.0",
      "_model_name": "LayoutModel",
      "_view_count": null,
      "_view_module": "@jupyter-widgets/base",
      "_view_module_version": "1.2.0",
      "_view_name": "LayoutView",
      "align_content": null,
      "align_items": null,
      "align_self": null,
      "border": null,
      "bottom": null,
      "display": null,
      "flex": null,
      "flex_flow": null,
      "grid_area": null,
      "grid_auto_columns": null,
      "grid_auto_flow": null,
      "grid_auto_rows": null,
      "grid_column": null,
      "grid_gap": null,
      "grid_row": null,
      "grid_template_areas": null,
      "grid_template_columns": null,
      "grid_template_rows": null,
      "height": null,
      "justify_content": null,
      "justify_items": null,
      "left": null,
      "margin": null,
      "max_height": null,
      "max_width": null,
      "min_height": null,
      "min_width": null,
      "object_fit": null,
      "object_position": null,
      "order": null,
      "overflow": null,
      "overflow_x": null,
      "overflow_y": null,
      "padding": null,
      "right": null,
      "top": null,
      "visibility": null,
      "width": null
     }
    },
    "89b5a02207c14a639ab38dd4c0a4dcc3": {
     "model_module": "@jupyter-widgets/controls",
     "model_name": "HTMLModel",
     "state": {
      "_dom_classes": [],
      "_model_module": "@jupyter-widgets/controls",
      "_model_module_version": "1.5.0",
      "_model_name": "HTMLModel",
      "_view_count": null,
      "_view_module": "@jupyter-widgets/controls",
      "_view_module_version": "1.5.0",
      "_view_name": "HTMLView",
      "description": "",
      "description_tooltip": null,
      "layout": "IPY_MODEL_890537c72f9c41b3917c9ea6697fc1f5",
      "placeholder": "​",
      "style": "IPY_MODEL_338062a3adee492eac5f5ea50ce043e0",
      "value": " 8192/? [00:00&lt;00:00, 12024.27it/s]"
     }
    },
    "9fba0cc4ba0a49969a3da0f83357aa6a": {
     "model_module": "@jupyter-widgets/controls",
     "model_name": "DescriptionStyleModel",
     "state": {
      "_model_module": "@jupyter-widgets/controls",
      "_model_module_version": "1.5.0",
      "_model_name": "DescriptionStyleModel",
      "_view_count": null,
      "_view_module": "@jupyter-widgets/base",
      "_view_module_version": "1.2.0",
      "_view_name": "StyleView",
      "description_width": ""
     }
    },
    "b3114b88ceee4540a9ce32a0457b443c": {
     "model_module": "@jupyter-widgets/controls",
     "model_name": "ProgressStyleModel",
     "state": {
      "_model_module": "@jupyter-widgets/controls",
      "_model_module_version": "1.5.0",
      "_model_name": "ProgressStyleModel",
      "_view_count": null,
      "_view_module": "@jupyter-widgets/base",
      "_view_module_version": "1.2.0",
      "_view_name": "StyleView",
      "bar_color": null,
      "description_width": "initial"
     }
    },
    "bb11d553d8b54b2aa4db1d89040d8dfb": {
     "model_module": "@jupyter-widgets/controls",
     "model_name": "HBoxModel",
     "state": {
      "_dom_classes": [],
      "_model_module": "@jupyter-widgets/controls",
      "_model_module_version": "1.5.0",
      "_model_name": "HBoxModel",
      "_view_count": null,
      "_view_module": "@jupyter-widgets/controls",
      "_view_module_version": "1.5.0",
      "_view_name": "HBoxView",
      "box_style": "",
      "children": [
       "IPY_MODEL_16e3d43eda0f4b0cb5cb47166b25b38d",
       "IPY_MODEL_89b5a02207c14a639ab38dd4c0a4dcc3"
      ],
      "layout": "IPY_MODEL_ea0bbca1f5dc4976a38cad49f1b8c3aa"
     }
    },
    "bb7b1045e9c646e585e964da3d047fab": {
     "model_module": "@jupyter-widgets/base",
     "model_name": "LayoutModel",
     "state": {
      "_model_module": "@jupyter-widgets/base",
      "_model_module_version": "1.2.0",
      "_model_name": "LayoutModel",
      "_view_count": null,
      "_view_module": "@jupyter-widgets/base",
      "_view_module_version": "1.2.0",
      "_view_name": "LayoutView",
      "align_content": null,
      "align_items": null,
      "align_self": null,
      "border": null,
      "bottom": null,
      "display": null,
      "flex": null,
      "flex_flow": null,
      "grid_area": null,
      "grid_auto_columns": null,
      "grid_auto_flow": null,
      "grid_auto_rows": null,
      "grid_column": null,
      "grid_gap": null,
      "grid_row": null,
      "grid_template_areas": null,
      "grid_template_columns": null,
      "grid_template_rows": null,
      "height": null,
      "justify_content": null,
      "justify_items": null,
      "left": null,
      "margin": null,
      "max_height": null,
      "max_width": null,
      "min_height": null,
      "min_width": null,
      "object_fit": null,
      "object_position": null,
      "order": null,
      "overflow": null,
      "overflow_x": null,
      "overflow_y": null,
      "padding": null,
      "right": null,
      "top": null,
      "visibility": null,
      "width": null
     }
    },
    "c05dc49b874448ed81332cb4e35497e8": {
     "model_module": "@jupyter-widgets/controls",
     "model_name": "HBoxModel",
     "state": {
      "_dom_classes": [],
      "_model_module": "@jupyter-widgets/controls",
      "_model_module_version": "1.5.0",
      "_model_name": "HBoxModel",
      "_view_count": null,
      "_view_module": "@jupyter-widgets/controls",
      "_view_module_version": "1.5.0",
      "_view_name": "HBoxView",
      "box_style": "",
      "children": [
       "IPY_MODEL_6837e1b895af408c9c03c32baafa59ad",
       "IPY_MODEL_c5c79ce89bfb4bfdb6ebcea295cfbfd2"
      ],
      "layout": "IPY_MODEL_7caf822fe30f4a44aa037eb50c19aba1"
     }
    },
    "c556597957f8458fbbaa38777ef04066": {
     "model_module": "@jupyter-widgets/controls",
     "model_name": "DescriptionStyleModel",
     "state": {
      "_model_module": "@jupyter-widgets/controls",
      "_model_module_version": "1.5.0",
      "_model_name": "DescriptionStyleModel",
      "_view_count": null,
      "_view_module": "@jupyter-widgets/base",
      "_view_module_version": "1.2.0",
      "_view_name": "StyleView",
      "description_width": ""
     }
    },
    "c5c79ce89bfb4bfdb6ebcea295cfbfd2": {
     "model_module": "@jupyter-widgets/controls",
     "model_name": "HTMLModel",
     "state": {
      "_dom_classes": [],
      "_model_module": "@jupyter-widgets/controls",
      "_model_module_version": "1.5.0",
      "_model_name": "HTMLModel",
      "_view_count": null,
      "_view_module": "@jupyter-widgets/controls",
      "_view_module_version": "1.5.0",
      "_view_name": "HTMLView",
      "description": "",
      "description_tooltip": null,
      "layout": "IPY_MODEL_125df0e0d1a74b638e9697813551c6ea",
      "placeholder": "​",
      "style": "IPY_MODEL_c556597957f8458fbbaa38777ef04066",
      "value": " 32768/? [00:02&lt;00:00, 13450.86it/s]"
     }
    },
    "ccb6956c46204ea38c1961c605d07d86": {
     "model_module": "@jupyter-widgets/base",
     "model_name": "LayoutModel",
     "state": {
      "_model_module": "@jupyter-widgets/base",
      "_model_module_version": "1.2.0",
      "_model_name": "LayoutModel",
      "_view_count": null,
      "_view_module": "@jupyter-widgets/base",
      "_view_module_version": "1.2.0",
      "_view_name": "LayoutView",
      "align_content": null,
      "align_items": null,
      "align_self": null,
      "border": null,
      "bottom": null,
      "display": null,
      "flex": null,
      "flex_flow": null,
      "grid_area": null,
      "grid_auto_columns": null,
      "grid_auto_flow": null,
      "grid_auto_rows": null,
      "grid_column": null,
      "grid_gap": null,
      "grid_row": null,
      "grid_template_areas": null,
      "grid_template_columns": null,
      "grid_template_rows": null,
      "height": null,
      "justify_content": null,
      "justify_items": null,
      "left": null,
      "margin": null,
      "max_height": null,
      "max_width": null,
      "min_height": null,
      "min_width": null,
      "object_fit": null,
      "object_position": null,
      "order": null,
      "overflow": null,
      "overflow_x": null,
      "overflow_y": null,
      "padding": null,
      "right": null,
      "top": null,
      "visibility": null,
      "width": null
     }
    },
    "cd53019ab4874288a1c0a80868ef101e": {
     "model_module": "@jupyter-widgets/controls",
     "model_name": "HTMLModel",
     "state": {
      "_dom_classes": [],
      "_model_module": "@jupyter-widgets/controls",
      "_model_module_version": "1.5.0",
      "_model_name": "HTMLModel",
      "_view_count": null,
      "_view_module": "@jupyter-widgets/controls",
      "_view_module_version": "1.5.0",
      "_view_name": "HTMLView",
      "description": "",
      "description_tooltip": null,
      "layout": "IPY_MODEL_d8721b00732944308b3b012615411023",
      "placeholder": "​",
      "style": "IPY_MODEL_6fd36b25402442e9924c31586a9da02b",
      "value": " 26427392/? [00:04&lt;00:00, 5472544.17it/s]"
     }
    },
    "d8721b00732944308b3b012615411023": {
     "model_module": "@jupyter-widgets/base",
     "model_name": "LayoutModel",
     "state": {
      "_model_module": "@jupyter-widgets/base",
      "_model_module_version": "1.2.0",
      "_model_name": "LayoutModel",
      "_view_count": null,
      "_view_module": "@jupyter-widgets/base",
      "_view_module_version": "1.2.0",
      "_view_name": "LayoutView",
      "align_content": null,
      "align_items": null,
      "align_self": null,
      "border": null,
      "bottom": null,
      "display": null,
      "flex": null,
      "flex_flow": null,
      "grid_area": null,
      "grid_auto_columns": null,
      "grid_auto_flow": null,
      "grid_auto_rows": null,
      "grid_column": null,
      "grid_gap": null,
      "grid_row": null,
      "grid_template_areas": null,
      "grid_template_columns": null,
      "grid_template_rows": null,
      "height": null,
      "justify_content": null,
      "justify_items": null,
      "left": null,
      "margin": null,
      "max_height": null,
      "max_width": null,
      "min_height": null,
      "min_width": null,
      "object_fit": null,
      "object_position": null,
      "order": null,
      "overflow": null,
      "overflow_x": null,
      "overflow_y": null,
      "padding": null,
      "right": null,
      "top": null,
      "visibility": null,
      "width": null
     }
    },
    "ea0bbca1f5dc4976a38cad49f1b8c3aa": {
     "model_module": "@jupyter-widgets/base",
     "model_name": "LayoutModel",
     "state": {
      "_model_module": "@jupyter-widgets/base",
      "_model_module_version": "1.2.0",
      "_model_name": "LayoutModel",
      "_view_count": null,
      "_view_module": "@jupyter-widgets/base",
      "_view_module_version": "1.2.0",
      "_view_name": "LayoutView",
      "align_content": null,
      "align_items": null,
      "align_self": null,
      "border": null,
      "bottom": null,
      "display": null,
      "flex": null,
      "flex_flow": null,
      "grid_area": null,
      "grid_auto_columns": null,
      "grid_auto_flow": null,
      "grid_auto_rows": null,
      "grid_column": null,
      "grid_gap": null,
      "grid_row": null,
      "grid_template_areas": null,
      "grid_template_columns": null,
      "grid_template_rows": null,
      "height": null,
      "justify_content": null,
      "justify_items": null,
      "left": null,
      "margin": null,
      "max_height": null,
      "max_width": null,
      "min_height": null,
      "min_width": null,
      "object_fit": null,
      "object_position": null,
      "order": null,
      "overflow": null,
      "overflow_x": null,
      "overflow_y": null,
      "padding": null,
      "right": null,
      "top": null,
      "visibility": null,
      "width": null
     }
    },
    "f2a6b40040f94580b04b3658c6b706de": {
     "model_module": "@jupyter-widgets/controls",
     "model_name": "HBoxModel",
     "state": {
      "_dom_classes": [],
      "_model_module": "@jupyter-widgets/controls",
      "_model_module_version": "1.5.0",
      "_model_name": "HBoxModel",
      "_view_count": null,
      "_view_module": "@jupyter-widgets/controls",
      "_view_module_version": "1.5.0",
      "_view_name": "HBoxView",
      "box_style": "",
      "children": [
       "IPY_MODEL_4abdec0fbe7245a696cd093607249699",
       "IPY_MODEL_cd53019ab4874288a1c0a80868ef101e"
      ],
      "layout": "IPY_MODEL_05a4db1603d74004aa95bd26563614cd"
     }
    },
    "f4b3654c46754ec6b41f760f19edf604": {
     "model_module": "@jupyter-widgets/controls",
     "model_name": "HTMLModel",
     "state": {
      "_dom_classes": [],
      "_model_module": "@jupyter-widgets/controls",
      "_model_module_version": "1.5.0",
      "_model_name": "HTMLModel",
      "_view_count": null,
      "_view_module": "@jupyter-widgets/controls",
      "_view_module_version": "1.5.0",
      "_view_name": "HTMLView",
      "description": "",
      "description_tooltip": null,
      "layout": "IPY_MODEL_bb7b1045e9c646e585e964da3d047fab",
      "placeholder": "​",
      "style": "IPY_MODEL_9fba0cc4ba0a49969a3da0f83357aa6a",
      "value": " 4423680/? [00:01&lt;00:00, 2427188.46it/s]"
     }
    }
   }
  }
 },
 "nbformat": 4,
 "nbformat_minor": 4
}
